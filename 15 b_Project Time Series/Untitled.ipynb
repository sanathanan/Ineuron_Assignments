{
 "cells": [
  {
   "cell_type": "markdown",
   "metadata": {},
   "source": [
    "\n",
    "1.Introduction:\n",
    "    This assignment will help you to consolidate the concepts learnt in the session.\n",
    "\n",
    "\n",
    "Hint:import pandas as pd\n",
    "import numpy as np\n",
    "import matplotlib.pyplot as plt\n",
    "from pandas.tools.plotting import autocorrelation_plot\n",
    "from statsmodels.graphics.tsaplots import plot_pacf\n",
    "from statsmodels.tsa.arima_model import ARIMA, ARMAResults\n",
    "import datetimeimport sys\n",
    "import seaborn as sns\n",
    "import statsmodels\n",
    "import statsmodels.stats.diagnostic as diag\n",
    "from statsmodels.tsa.stattools import adfuller\n",
    "from scipy.stats.mstats import normaltest\n",
    "from matplotlib.pyplot import acorrplt.style.use('fivethirtyeight')\n",
    "%matplotlib inline\n",
    "df = pd.read_csv('C:/Users/Downloads/sp500/data_stocks.csv')\n",
    "df.head()\n",
    "\n",
    "Problem Statement:\n",
    "Pick up the following stocks and generate forecasts accordingly\n",
    "Stocks:\n",
    "1.NASDAQ.AAPL\n",
    "2.NASDAQ.ADP\n",
    "3.NASDAQ.CBOE\n",
    "4.NASDAQ.CSCO\n",
    "5.NASDAQ.EBAY\n",
    "\n",
    "NOTE:The solution shared through Github should contain the source code used and the screenshot of the output.\n"
   ]
  },
  {
   "cell_type": "code",
   "execution_count": 1,
   "metadata": {},
   "outputs": [],
   "source": [
    "# Importing necessary Libraries\n",
    "import pandas as pd\n",
    "import numpy as np\n",
    "import seaborn as sns\n",
    "import matplotlib.pyplot as plt\n",
    "%matplotlib inline"
   ]
  },
  {
   "cell_type": "code",
   "execution_count": 2,
   "metadata": {},
   "outputs": [
    {
     "data": {
      "text/html": [
       "<div>\n",
       "<style scoped>\n",
       "    .dataframe tbody tr th:only-of-type {\n",
       "        vertical-align: middle;\n",
       "    }\n",
       "\n",
       "    .dataframe tbody tr th {\n",
       "        vertical-align: top;\n",
       "    }\n",
       "\n",
       "    .dataframe thead th {\n",
       "        text-align: right;\n",
       "    }\n",
       "</style>\n",
       "<table border=\"1\" class=\"dataframe\">\n",
       "  <thead>\n",
       "    <tr style=\"text-align: right;\">\n",
       "      <th></th>\n",
       "      <th>DATE</th>\n",
       "      <th>SP500</th>\n",
       "      <th>NASDAQ.AAL</th>\n",
       "      <th>NASDAQ.AAPL</th>\n",
       "      <th>NASDAQ.ADBE</th>\n",
       "      <th>NASDAQ.ADI</th>\n",
       "      <th>NASDAQ.ADP</th>\n",
       "      <th>NASDAQ.ADSK</th>\n",
       "      <th>NASDAQ.AKAM</th>\n",
       "      <th>NASDAQ.ALXN</th>\n",
       "      <th>...</th>\n",
       "      <th>NYSE.WYN</th>\n",
       "      <th>NYSE.XEC</th>\n",
       "      <th>NYSE.XEL</th>\n",
       "      <th>NYSE.XL</th>\n",
       "      <th>NYSE.XOM</th>\n",
       "      <th>NYSE.XRX</th>\n",
       "      <th>NYSE.XYL</th>\n",
       "      <th>NYSE.YUM</th>\n",
       "      <th>NYSE.ZBH</th>\n",
       "      <th>NYSE.ZTS</th>\n",
       "    </tr>\n",
       "  </thead>\n",
       "  <tbody>\n",
       "    <tr>\n",
       "      <th>0</th>\n",
       "      <td>1491226200</td>\n",
       "      <td>2363.6101</td>\n",
       "      <td>42.3300</td>\n",
       "      <td>143.6800</td>\n",
       "      <td>129.6300</td>\n",
       "      <td>82.040</td>\n",
       "      <td>102.2300</td>\n",
       "      <td>85.2200</td>\n",
       "      <td>59.760</td>\n",
       "      <td>121.52</td>\n",
       "      <td>...</td>\n",
       "      <td>84.370</td>\n",
       "      <td>119.035</td>\n",
       "      <td>44.40</td>\n",
       "      <td>39.88</td>\n",
       "      <td>82.03</td>\n",
       "      <td>7.36</td>\n",
       "      <td>50.22</td>\n",
       "      <td>63.86</td>\n",
       "      <td>122.000</td>\n",
       "      <td>53.350</td>\n",
       "    </tr>\n",
       "    <tr>\n",
       "      <th>1</th>\n",
       "      <td>1491226260</td>\n",
       "      <td>2364.1001</td>\n",
       "      <td>42.3600</td>\n",
       "      <td>143.7000</td>\n",
       "      <td>130.3200</td>\n",
       "      <td>82.080</td>\n",
       "      <td>102.1400</td>\n",
       "      <td>85.6500</td>\n",
       "      <td>59.840</td>\n",
       "      <td>121.48</td>\n",
       "      <td>...</td>\n",
       "      <td>84.370</td>\n",
       "      <td>119.035</td>\n",
       "      <td>44.11</td>\n",
       "      <td>39.88</td>\n",
       "      <td>82.03</td>\n",
       "      <td>7.38</td>\n",
       "      <td>50.22</td>\n",
       "      <td>63.74</td>\n",
       "      <td>121.770</td>\n",
       "      <td>53.350</td>\n",
       "    </tr>\n",
       "    <tr>\n",
       "      <th>2</th>\n",
       "      <td>1491226320</td>\n",
       "      <td>2362.6799</td>\n",
       "      <td>42.3100</td>\n",
       "      <td>143.6901</td>\n",
       "      <td>130.2250</td>\n",
       "      <td>82.030</td>\n",
       "      <td>102.2125</td>\n",
       "      <td>85.5100</td>\n",
       "      <td>59.795</td>\n",
       "      <td>121.93</td>\n",
       "      <td>...</td>\n",
       "      <td>84.585</td>\n",
       "      <td>119.260</td>\n",
       "      <td>44.09</td>\n",
       "      <td>39.98</td>\n",
       "      <td>82.02</td>\n",
       "      <td>7.36</td>\n",
       "      <td>50.12</td>\n",
       "      <td>63.75</td>\n",
       "      <td>121.700</td>\n",
       "      <td>53.365</td>\n",
       "    </tr>\n",
       "    <tr>\n",
       "      <th>3</th>\n",
       "      <td>1491226380</td>\n",
       "      <td>2364.3101</td>\n",
       "      <td>42.3700</td>\n",
       "      <td>143.6400</td>\n",
       "      <td>130.0729</td>\n",
       "      <td>82.000</td>\n",
       "      <td>102.1400</td>\n",
       "      <td>85.4872</td>\n",
       "      <td>59.620</td>\n",
       "      <td>121.44</td>\n",
       "      <td>...</td>\n",
       "      <td>84.460</td>\n",
       "      <td>119.260</td>\n",
       "      <td>44.25</td>\n",
       "      <td>39.99</td>\n",
       "      <td>82.02</td>\n",
       "      <td>7.35</td>\n",
       "      <td>50.16</td>\n",
       "      <td>63.88</td>\n",
       "      <td>121.700</td>\n",
       "      <td>53.380</td>\n",
       "    </tr>\n",
       "    <tr>\n",
       "      <th>4</th>\n",
       "      <td>1491226440</td>\n",
       "      <td>2364.8501</td>\n",
       "      <td>42.5378</td>\n",
       "      <td>143.6600</td>\n",
       "      <td>129.8800</td>\n",
       "      <td>82.035</td>\n",
       "      <td>102.0600</td>\n",
       "      <td>85.7001</td>\n",
       "      <td>59.620</td>\n",
       "      <td>121.60</td>\n",
       "      <td>...</td>\n",
       "      <td>84.470</td>\n",
       "      <td>119.610</td>\n",
       "      <td>44.11</td>\n",
       "      <td>39.96</td>\n",
       "      <td>82.03</td>\n",
       "      <td>7.36</td>\n",
       "      <td>50.20</td>\n",
       "      <td>63.91</td>\n",
       "      <td>121.695</td>\n",
       "      <td>53.240</td>\n",
       "    </tr>\n",
       "  </tbody>\n",
       "</table>\n",
       "<p>5 rows × 502 columns</p>\n",
       "</div>"
      ],
      "text/plain": [
       "         DATE      SP500  NASDAQ.AAL  NASDAQ.AAPL  NASDAQ.ADBE  NASDAQ.ADI  \\\n",
       "0  1491226200  2363.6101     42.3300     143.6800     129.6300      82.040   \n",
       "1  1491226260  2364.1001     42.3600     143.7000     130.3200      82.080   \n",
       "2  1491226320  2362.6799     42.3100     143.6901     130.2250      82.030   \n",
       "3  1491226380  2364.3101     42.3700     143.6400     130.0729      82.000   \n",
       "4  1491226440  2364.8501     42.5378     143.6600     129.8800      82.035   \n",
       "\n",
       "   NASDAQ.ADP  NASDAQ.ADSK  NASDAQ.AKAM  NASDAQ.ALXN  ...  NYSE.WYN  NYSE.XEC  \\\n",
       "0    102.2300      85.2200       59.760       121.52  ...    84.370   119.035   \n",
       "1    102.1400      85.6500       59.840       121.48  ...    84.370   119.035   \n",
       "2    102.2125      85.5100       59.795       121.93  ...    84.585   119.260   \n",
       "3    102.1400      85.4872       59.620       121.44  ...    84.460   119.260   \n",
       "4    102.0600      85.7001       59.620       121.60  ...    84.470   119.610   \n",
       "\n",
       "   NYSE.XEL  NYSE.XL  NYSE.XOM  NYSE.XRX  NYSE.XYL  NYSE.YUM  NYSE.ZBH  \\\n",
       "0     44.40    39.88     82.03      7.36     50.22     63.86   122.000   \n",
       "1     44.11    39.88     82.03      7.38     50.22     63.74   121.770   \n",
       "2     44.09    39.98     82.02      7.36     50.12     63.75   121.700   \n",
       "3     44.25    39.99     82.02      7.35     50.16     63.88   121.700   \n",
       "4     44.11    39.96     82.03      7.36     50.20     63.91   121.695   \n",
       "\n",
       "   NYSE.ZTS  \n",
       "0    53.350  \n",
       "1    53.350  \n",
       "2    53.365  \n",
       "3    53.380  \n",
       "4    53.240  \n",
       "\n",
       "[5 rows x 502 columns]"
      ]
     },
     "execution_count": 2,
     "metadata": {},
     "output_type": "execute_result"
    }
   ],
   "source": [
    "df = pd.read_csv(\"data_stocks.csv\")\n",
    "df.head()"
   ]
  },
  {
   "cell_type": "code",
   "execution_count": 3,
   "metadata": {},
   "outputs": [
    {
     "data": {
      "text/plain": [
       "dtype('int64')"
      ]
     },
     "execution_count": 3,
     "metadata": {},
     "output_type": "execute_result"
    }
   ],
   "source": [
    "df['DATE'].dtypes"
   ]
  },
  {
   "cell_type": "code",
   "execution_count": 4,
   "metadata": {},
   "outputs": [
    {
     "data": {
      "text/html": [
       "<div>\n",
       "<style scoped>\n",
       "    .dataframe tbody tr th:only-of-type {\n",
       "        vertical-align: middle;\n",
       "    }\n",
       "\n",
       "    .dataframe tbody tr th {\n",
       "        vertical-align: top;\n",
       "    }\n",
       "\n",
       "    .dataframe thead th {\n",
       "        text-align: right;\n",
       "    }\n",
       "</style>\n",
       "<table border=\"1\" class=\"dataframe\">\n",
       "  <thead>\n",
       "    <tr style=\"text-align: right;\">\n",
       "      <th></th>\n",
       "      <th>DATE</th>\n",
       "      <th>SP500</th>\n",
       "      <th>NASDAQ.AAL</th>\n",
       "      <th>NASDAQ.AAPL</th>\n",
       "      <th>NASDAQ.ADBE</th>\n",
       "      <th>NASDAQ.ADI</th>\n",
       "      <th>NASDAQ.ADP</th>\n",
       "      <th>NASDAQ.ADSK</th>\n",
       "      <th>NASDAQ.AKAM</th>\n",
       "      <th>NASDAQ.ALXN</th>\n",
       "      <th>...</th>\n",
       "      <th>NYSE.WYN</th>\n",
       "      <th>NYSE.XEC</th>\n",
       "      <th>NYSE.XEL</th>\n",
       "      <th>NYSE.XL</th>\n",
       "      <th>NYSE.XOM</th>\n",
       "      <th>NYSE.XRX</th>\n",
       "      <th>NYSE.XYL</th>\n",
       "      <th>NYSE.YUM</th>\n",
       "      <th>NYSE.ZBH</th>\n",
       "      <th>NYSE.ZTS</th>\n",
       "    </tr>\n",
       "  </thead>\n",
       "  <tbody>\n",
       "    <tr>\n",
       "      <th>0</th>\n",
       "      <td>2017-04-03 13:30:00</td>\n",
       "      <td>2363.6101</td>\n",
       "      <td>42.3300</td>\n",
       "      <td>143.6800</td>\n",
       "      <td>129.6300</td>\n",
       "      <td>82.040</td>\n",
       "      <td>102.2300</td>\n",
       "      <td>85.2200</td>\n",
       "      <td>59.760</td>\n",
       "      <td>121.52</td>\n",
       "      <td>...</td>\n",
       "      <td>84.370</td>\n",
       "      <td>119.035</td>\n",
       "      <td>44.40</td>\n",
       "      <td>39.88</td>\n",
       "      <td>82.03</td>\n",
       "      <td>7.36</td>\n",
       "      <td>50.22</td>\n",
       "      <td>63.86</td>\n",
       "      <td>122.000</td>\n",
       "      <td>53.350</td>\n",
       "    </tr>\n",
       "    <tr>\n",
       "      <th>1</th>\n",
       "      <td>2017-04-03 13:31:00</td>\n",
       "      <td>2364.1001</td>\n",
       "      <td>42.3600</td>\n",
       "      <td>143.7000</td>\n",
       "      <td>130.3200</td>\n",
       "      <td>82.080</td>\n",
       "      <td>102.1400</td>\n",
       "      <td>85.6500</td>\n",
       "      <td>59.840</td>\n",
       "      <td>121.48</td>\n",
       "      <td>...</td>\n",
       "      <td>84.370</td>\n",
       "      <td>119.035</td>\n",
       "      <td>44.11</td>\n",
       "      <td>39.88</td>\n",
       "      <td>82.03</td>\n",
       "      <td>7.38</td>\n",
       "      <td>50.22</td>\n",
       "      <td>63.74</td>\n",
       "      <td>121.770</td>\n",
       "      <td>53.350</td>\n",
       "    </tr>\n",
       "    <tr>\n",
       "      <th>2</th>\n",
       "      <td>2017-04-03 13:32:00</td>\n",
       "      <td>2362.6799</td>\n",
       "      <td>42.3100</td>\n",
       "      <td>143.6901</td>\n",
       "      <td>130.2250</td>\n",
       "      <td>82.030</td>\n",
       "      <td>102.2125</td>\n",
       "      <td>85.5100</td>\n",
       "      <td>59.795</td>\n",
       "      <td>121.93</td>\n",
       "      <td>...</td>\n",
       "      <td>84.585</td>\n",
       "      <td>119.260</td>\n",
       "      <td>44.09</td>\n",
       "      <td>39.98</td>\n",
       "      <td>82.02</td>\n",
       "      <td>7.36</td>\n",
       "      <td>50.12</td>\n",
       "      <td>63.75</td>\n",
       "      <td>121.700</td>\n",
       "      <td>53.365</td>\n",
       "    </tr>\n",
       "    <tr>\n",
       "      <th>3</th>\n",
       "      <td>2017-04-03 13:33:00</td>\n",
       "      <td>2364.3101</td>\n",
       "      <td>42.3700</td>\n",
       "      <td>143.6400</td>\n",
       "      <td>130.0729</td>\n",
       "      <td>82.000</td>\n",
       "      <td>102.1400</td>\n",
       "      <td>85.4872</td>\n",
       "      <td>59.620</td>\n",
       "      <td>121.44</td>\n",
       "      <td>...</td>\n",
       "      <td>84.460</td>\n",
       "      <td>119.260</td>\n",
       "      <td>44.25</td>\n",
       "      <td>39.99</td>\n",
       "      <td>82.02</td>\n",
       "      <td>7.35</td>\n",
       "      <td>50.16</td>\n",
       "      <td>63.88</td>\n",
       "      <td>121.700</td>\n",
       "      <td>53.380</td>\n",
       "    </tr>\n",
       "    <tr>\n",
       "      <th>4</th>\n",
       "      <td>2017-04-03 13:34:00</td>\n",
       "      <td>2364.8501</td>\n",
       "      <td>42.5378</td>\n",
       "      <td>143.6600</td>\n",
       "      <td>129.8800</td>\n",
       "      <td>82.035</td>\n",
       "      <td>102.0600</td>\n",
       "      <td>85.7001</td>\n",
       "      <td>59.620</td>\n",
       "      <td>121.60</td>\n",
       "      <td>...</td>\n",
       "      <td>84.470</td>\n",
       "      <td>119.610</td>\n",
       "      <td>44.11</td>\n",
       "      <td>39.96</td>\n",
       "      <td>82.03</td>\n",
       "      <td>7.36</td>\n",
       "      <td>50.20</td>\n",
       "      <td>63.91</td>\n",
       "      <td>121.695</td>\n",
       "      <td>53.240</td>\n",
       "    </tr>\n",
       "  </tbody>\n",
       "</table>\n",
       "<p>5 rows × 502 columns</p>\n",
       "</div>"
      ],
      "text/plain": [
       "                 DATE      SP500  NASDAQ.AAL  NASDAQ.AAPL  NASDAQ.ADBE  \\\n",
       "0 2017-04-03 13:30:00  2363.6101     42.3300     143.6800     129.6300   \n",
       "1 2017-04-03 13:31:00  2364.1001     42.3600     143.7000     130.3200   \n",
       "2 2017-04-03 13:32:00  2362.6799     42.3100     143.6901     130.2250   \n",
       "3 2017-04-03 13:33:00  2364.3101     42.3700     143.6400     130.0729   \n",
       "4 2017-04-03 13:34:00  2364.8501     42.5378     143.6600     129.8800   \n",
       "\n",
       "   NASDAQ.ADI  NASDAQ.ADP  NASDAQ.ADSK  NASDAQ.AKAM  NASDAQ.ALXN  ...  \\\n",
       "0      82.040    102.2300      85.2200       59.760       121.52  ...   \n",
       "1      82.080    102.1400      85.6500       59.840       121.48  ...   \n",
       "2      82.030    102.2125      85.5100       59.795       121.93  ...   \n",
       "3      82.000    102.1400      85.4872       59.620       121.44  ...   \n",
       "4      82.035    102.0600      85.7001       59.620       121.60  ...   \n",
       "\n",
       "   NYSE.WYN  NYSE.XEC  NYSE.XEL  NYSE.XL  NYSE.XOM  NYSE.XRX  NYSE.XYL  \\\n",
       "0    84.370   119.035     44.40    39.88     82.03      7.36     50.22   \n",
       "1    84.370   119.035     44.11    39.88     82.03      7.38     50.22   \n",
       "2    84.585   119.260     44.09    39.98     82.02      7.36     50.12   \n",
       "3    84.460   119.260     44.25    39.99     82.02      7.35     50.16   \n",
       "4    84.470   119.610     44.11    39.96     82.03      7.36     50.20   \n",
       "\n",
       "   NYSE.YUM  NYSE.ZBH  NYSE.ZTS  \n",
       "0     63.86   122.000    53.350  \n",
       "1     63.74   121.770    53.350  \n",
       "2     63.75   121.700    53.365  \n",
       "3     63.88   121.700    53.380  \n",
       "4     63.91   121.695    53.240  \n",
       "\n",
       "[5 rows x 502 columns]"
      ]
     },
     "execution_count": 4,
     "metadata": {},
     "output_type": "execute_result"
    }
   ],
   "source": [
    "# Converting df['DATE'] into Date Time \n",
    "df['DATE'] = pd.to_datetime(df['DATE'], unit='s')\n",
    "df.head()"
   ]
  },
  {
   "cell_type": "code",
   "execution_count": 5,
   "metadata": {},
   "outputs": [
    {
     "data": {
      "text/plain": [
       "dtype('<M8[ns]')"
      ]
     },
     "execution_count": 5,
     "metadata": {},
     "output_type": "execute_result"
    }
   ],
   "source": [
    "df['DATE'].dtypes"
   ]
  },
  {
   "cell_type": "code",
   "execution_count": 6,
   "metadata": {},
   "outputs": [],
   "source": [
    "df.set_index('DATE' ,inplace=True)"
   ]
  },
  {
   "cell_type": "code",
   "execution_count": 7,
   "metadata": {},
   "outputs": [],
   "source": [
    "df1 = df[['NASDAQ.AAPL']].copy()"
   ]
  },
  {
   "cell_type": "code",
   "execution_count": 8,
   "metadata": {},
   "outputs": [
    {
     "name": "stdout",
     "output_type": "stream",
     "text": [
      "                     NASDAQ.AAPL\n",
      "DATE                            \n",
      "2017-04-03 13:30:00     143.6800\n",
      "2017-04-03 13:31:00     143.7000\n",
      "2017-04-03 13:32:00     143.6901\n",
      "2017-04-03 13:33:00     143.6400\n",
      "2017-04-03 13:34:00     143.6600\n",
      "                     NASDAQ.AAPL\n",
      "DATE                            \n",
      "2017-08-31 19:56:00       164.11\n",
      "2017-08-31 19:57:00       164.12\n",
      "2017-08-31 19:58:00       164.01\n",
      "2017-08-31 19:59:00       163.88\n",
      "2017-08-31 20:00:00       163.98\n"
     ]
    }
   ],
   "source": [
    "print(df1.head())\n",
    "print(df1.tail())\n"
   ]
  },
  {
   "cell_type": "code",
   "execution_count": 9,
   "metadata": {},
   "outputs": [
    {
     "data": {
      "text/plain": [
       "NASDAQ.AAPL    41266\n",
       "dtype: int64"
      ]
     },
     "execution_count": 9,
     "metadata": {},
     "output_type": "execute_result"
    }
   ],
   "source": [
    "df1.count()"
   ]
  },
  {
   "cell_type": "code",
   "execution_count": 10,
   "metadata": {},
   "outputs": [
    {
     "data": {
      "image/png": "[encoded data removed]",
      "text/plain": [
       "<Figure size 720x360 with 1 Axes>"
      ]
     },
     "metadata": {},
     "output_type": "display_data"
    }
   ],
   "source": [
    "plt.figure(figsize=(10,5), facecolor='White')\n",
    "plt.plot(df1)\n",
    "plt.title(\"NASDAQ.AAPL\")\n",
    "plt.xlabel(\"Years\")\n",
    "plt.ylabel(\"Values\")\n",
    "plt.show()"
   ]
  },
  {
   "cell_type": "code",
   "execution_count": 11,
   "metadata": {},
   "outputs": [
    {
     "data": {
      "text/html": [
       "<div>\n",
       "<style scoped>\n",
       "    .dataframe tbody tr th:only-of-type {\n",
       "        vertical-align: middle;\n",
       "    }\n",
       "\n",
       "    .dataframe tbody tr th {\n",
       "        vertical-align: top;\n",
       "    }\n",
       "\n",
       "    .dataframe thead th {\n",
       "        text-align: right;\n",
       "    }\n",
       "</style>\n",
       "<table border=\"1\" class=\"dataframe\">\n",
       "  <thead>\n",
       "    <tr style=\"text-align: right;\">\n",
       "      <th></th>\n",
       "      <th>NASDAQ.AAPL</th>\n",
       "    </tr>\n",
       "  </thead>\n",
       "  <tbody>\n",
       "    <tr>\n",
       "      <th>count</th>\n",
       "      <td>41266.000000</td>\n",
       "    </tr>\n",
       "    <tr>\n",
       "      <th>mean</th>\n",
       "      <td>150.453566</td>\n",
       "    </tr>\n",
       "    <tr>\n",
       "      <th>std</th>\n",
       "      <td>6.236826</td>\n",
       "    </tr>\n",
       "    <tr>\n",
       "      <th>min</th>\n",
       "      <td>140.160000</td>\n",
       "    </tr>\n",
       "    <tr>\n",
       "      <th>25%</th>\n",
       "      <td>144.640000</td>\n",
       "    </tr>\n",
       "    <tr>\n",
       "      <th>50%</th>\n",
       "      <td>149.945000</td>\n",
       "    </tr>\n",
       "    <tr>\n",
       "      <th>75%</th>\n",
       "      <td>155.065000</td>\n",
       "    </tr>\n",
       "    <tr>\n",
       "      <th>max</th>\n",
       "      <td>164.510000</td>\n",
       "    </tr>\n",
       "  </tbody>\n",
       "</table>\n",
       "</div>"
      ],
      "text/plain": [
       "        NASDAQ.AAPL\n",
       "count  41266.000000\n",
       "mean     150.453566\n",
       "std        6.236826\n",
       "min      140.160000\n",
       "25%      144.640000\n",
       "50%      149.945000\n",
       "75%      155.065000\n",
       "max      164.510000"
      ]
     },
     "execution_count": 11,
     "metadata": {},
     "output_type": "execute_result"
    }
   ],
   "source": [
    "df1.describe()"
   ]
  },
  {
   "cell_type": "code",
   "execution_count": 12,
   "metadata": {},
   "outputs": [
    {
     "data": {
      "image/png": "[encoded data removed]",
      "text/plain": [
       "<Figure size 720x360 with 1 Axes>"
      ]
     },
     "metadata": {},
     "output_type": "display_data"
    }
   ],
   "source": [
    "from pandas.plotting import lag_plot\n",
    "\n",
    "plt.figure(figsize=(10,5), facecolor='White')\n",
    "lag_plot(df, lag=5)\n",
    "plt.title(\"NASDAQ.AAPL AutoCorrelation Plot\")\n",
    "plt.xlabel(\"Years\")\n",
    "plt.ylabel(\"Values\")\n",
    "plt.show()"
   ]
  },
  {
   "cell_type": "code",
   "execution_count": 13,
   "metadata": {},
   "outputs": [],
   "source": [
    "# Testing for stationary Data:\n",
    "\n",
    "from statsmodels.tsa.stattools import adfuller\n",
    "\n",
    "test_result = adfuller(df1['NASDAQ.AAPL'])"
   ]
  },
  {
   "cell_type": "code",
   "execution_count": 14,
   "metadata": {},
   "outputs": [],
   "source": [
    "def adfuller_test(stocks):\n",
    "    result=adfuller(stocks)\n",
    "    labels = ['ADF Test Statistic','p-value','#Lags Used','Number of Observations Used']\n",
    "    for value,label in zip(result,labels):\n",
    "        print(label+' : '+str(value) )\n",
    "    if result[1] <= 0.05:\n",
    "        print(\"We are rejecting the Null Hypothesis. Data has no unit root and is stationary\")\n",
    "    else:\n",
    "        print(\"We are accepting the Null hypothesis, time series has a unit root, indicating it is non-stationary \")"
   ]
  },
  {
   "cell_type": "code",
   "execution_count": 15,
   "metadata": {},
   "outputs": [
    {
     "name": "stdout",
     "output_type": "stream",
     "text": [
      "ADF Test Statistic : -0.9128532997926665\n",
      "p-value : 0.7837101772613868\n",
      "#Lags Used : 31\n",
      "Number of Observations Used : 41234\n",
      "We are accepting the Null hypothesis, time series has a unit root, indicating it is non-stationary \n"
     ]
    }
   ],
   "source": [
    "adfuller_test(df1['NASDAQ.AAPL'])"
   ]
  },
  {
   "cell_type": "code",
   "execution_count": 92,
   "metadata": {},
   "outputs": [],
   "source": [
    "# If the data is Non-stationary. What we need to do to make the data Stationary"
   ]
  },
  {
   "cell_type": "code",
   "execution_count": 16,
   "metadata": {},
   "outputs": [
    {
     "data": {
      "text/plain": [
       "DATE\n",
       "2017-04-03 13:30:00         NaN\n",
       "2017-04-03 13:31:00    143.6800\n",
       "2017-04-03 13:32:00    143.7000\n",
       "2017-04-03 13:33:00    143.6901\n",
       "2017-04-03 13:34:00    143.6400\n",
       "                         ...   \n",
       "2017-08-31 19:56:00    164.1400\n",
       "2017-08-31 19:57:00    164.1100\n",
       "2017-08-31 19:58:00    164.1200\n",
       "2017-08-31 19:59:00    164.0100\n",
       "2017-08-31 20:00:00    163.8800\n",
       "Name: NASDAQ.AAPL, Length: 41266, dtype: float64"
      ]
     },
     "execution_count": 16,
     "metadata": {},
     "output_type": "execute_result"
    }
   ],
   "source": [
    "# We are doing \"Differencing\"\n",
    "# We are shifting our data\n",
    "df1['NASDAQ.AAPL'].shift(1) # We can see that, the data shifted to one position. \n",
    "# The first row value is shifted to second row"
   ]
  },
  {
   "cell_type": "code",
   "execution_count": 19,
   "metadata": {},
   "outputs": [],
   "source": [
    "df1['NASDAQ.AAPL difference'] = df['NASDAQ.AAPL']-df['NASDAQ.AAPL'].shift(1)"
   ]
  },
  {
   "cell_type": "code",
   "execution_count": 20,
   "metadata": {},
   "outputs": [
    {
     "data": {
      "text/html": [
       "<div>\n",
       "<style scoped>\n",
       "    .dataframe tbody tr th:only-of-type {\n",
       "        vertical-align: middle;\n",
       "    }\n",
       "\n",
       "    .dataframe tbody tr th {\n",
       "        vertical-align: top;\n",
       "    }\n",
       "\n",
       "    .dataframe thead th {\n",
       "        text-align: right;\n",
       "    }\n",
       "</style>\n",
       "<table border=\"1\" class=\"dataframe\">\n",
       "  <thead>\n",
       "    <tr style=\"text-align: right;\">\n",
       "      <th></th>\n",
       "      <th>NASDAQ.AAPL</th>\n",
       "      <th>NASDAQ.AAPL difference</th>\n",
       "    </tr>\n",
       "    <tr>\n",
       "      <th>DATE</th>\n",
       "      <th></th>\n",
       "      <th></th>\n",
       "    </tr>\n",
       "  </thead>\n",
       "  <tbody>\n",
       "    <tr>\n",
       "      <th>2017-04-03 13:30:00</th>\n",
       "      <td>143.6800</td>\n",
       "      <td>NaN</td>\n",
       "    </tr>\n",
       "    <tr>\n",
       "      <th>2017-04-03 13:31:00</th>\n",
       "      <td>143.7000</td>\n",
       "      <td>0.0200</td>\n",
       "    </tr>\n",
       "    <tr>\n",
       "      <th>2017-04-03 13:32:00</th>\n",
       "      <td>143.6901</td>\n",
       "      <td>-0.0099</td>\n",
       "    </tr>\n",
       "    <tr>\n",
       "      <th>2017-04-03 13:33:00</th>\n",
       "      <td>143.6400</td>\n",
       "      <td>-0.0501</td>\n",
       "    </tr>\n",
       "    <tr>\n",
       "      <th>2017-04-03 13:34:00</th>\n",
       "      <td>143.6600</td>\n",
       "      <td>0.0200</td>\n",
       "    </tr>\n",
       "  </tbody>\n",
       "</table>\n",
       "</div>"
      ],
      "text/plain": [
       "                     NASDAQ.AAPL  NASDAQ.AAPL difference\n",
       "DATE                                                    \n",
       "2017-04-03 13:30:00     143.6800                     NaN\n",
       "2017-04-03 13:31:00     143.7000                  0.0200\n",
       "2017-04-03 13:32:00     143.6901                 -0.0099\n",
       "2017-04-03 13:33:00     143.6400                 -0.0501\n",
       "2017-04-03 13:34:00     143.6600                  0.0200"
      ]
     },
     "execution_count": 20,
     "metadata": {},
     "output_type": "execute_result"
    }
   ],
   "source": [
    "df1.head()"
   ]
  },
  {
   "cell_type": "code",
   "execution_count": 23,
   "metadata": {},
   "outputs": [
    {
     "name": "stdout",
     "output_type": "stream",
     "text": [
      "ADF Test Statistic : -35.73774148340149\n",
      "p-value : 0.0\n",
      "#Lags Used : 30\n",
      "Number of Observations Used : 41234\n",
      "We are rejecting the Null Hypothesis. Data has no unit root and is stationary\n"
     ]
    }
   ],
   "source": [
    "# Again we passing our data with dicky fuller test\n",
    "adfuller_test(df1['NASDAQ.AAPL difference'].dropna())"
   ]
  },
  {
   "cell_type": "code",
   "execution_count": 24,
   "metadata": {},
   "outputs": [
    {
     "data": {
      "image/png": "[encoded data removed]",
      "text/plain": [
       "<Figure size 720x360 with 1 Axes>"
      ]
     },
     "metadata": {},
     "output_type": "display_data"
    }
   ],
   "source": [
    "plt.figure(figsize=(10,5), facecolor='White')\n",
    "df1['NASDAQ.AAPL difference'].plot()\n",
    "plt.show()"
   ]
  },
  {
   "cell_type": "code",
   "execution_count": null,
   "metadata": {},
   "outputs": [],
   "source": [
    "# Finding the AutoCorrelation"
   ]
  },
  {
   "cell_type": "code",
   "execution_count": 25,
   "metadata": {},
   "outputs": [],
   "source": [
    "from statsmodels.graphics.tsaplots import plot_acf,plot_pacf\n",
    "import statsmodels.api as sm"
   ]
  },
  {
   "cell_type": "code",
   "execution_count": 26,
   "metadata": {},
   "outputs": [
    {
     "data": {
      "image/png": "[encoded data removed]",
      "text/plain": [
       "<Figure size 864x576 with 2 Axes>"
      ]
     },
     "metadata": {
      "needs_background": "light"
     },
     "output_type": "display_data"
    }
   ],
   "source": [
    "fig = plt.figure(figsize=(12,8))\n",
    "# Auto Corelation Plot\n",
    "ax1 = fig.add_subplot(211)\n",
    "fig = sm.graphics.tsa.plot_acf(df1['NASDAQ.AAPL difference'],lags = 5, ax=ax1)\n",
    "# Partial Auto Corelation Plot\n",
    "ax2 = fig.add_subplot(212)\n",
    "fig = sm.graphics.tsa.plot_pacf(df1['NASDAQ.AAPL difference'],ax=ax2)"
   ]
  },
  {
   "cell_type": "code",
   "execution_count": 27,
   "metadata": {},
   "outputs": [
    {
     "name": "stdout",
     "output_type": "stream",
     "text": [
      "The Train Data:  (28886, 2)\n",
      "The Test Data:  (12380, 2)\n"
     ]
    }
   ],
   "source": [
    "# Training and Testing Set\n",
    "X = df1.values\n",
    "len(X)\n",
    "train_data = df1[0: int(len(df1)*0.7)]\n",
    "test_data = df1[int(len(df1)*0.7):]\n",
    "print(\"The Train Data: \", train_data.shape)\n",
    "print(\"The Test Data: \", test_data.shape)"
   ]
  },
  {
   "cell_type": "code",
   "execution_count": 56,
   "metadata": {},
   "outputs": [
    {
     "data": {
      "image/png": "[encoded data removed]",
      "text/plain": [
       "<Figure size 720x360 with 1 Axes>"
      ]
     },
     "metadata": {},
     "output_type": "display_data"
    }
   ],
   "source": [
    "plt.figure(figsize=(10,5), facecolor='White')\n",
    "plt.plot(df1['NASDAQ.AAPL'], 'blue', label='Training Data')\n",
    "plt.plot(test_data['NASDAQ.AAPL', 'green', label='Testing Data')\n",
    "plt.title('AAPL Prices')\n",
    "plt.xlabel('Dates')\n",
    "plt.ylabel('Prices')\n",
    "plt.legend()\n",
    "plt.show()"
   ]
  },
  {
   "cell_type": "code",
   "execution_count": 49,
   "metadata": {},
   "outputs": [],
   "source": [
    "from statsmodels.tsa.arima_model import ARIMA\n",
    "\n",
    "import itertools\n",
    "p=d=q=range(0,6)\n",
    "pdq=list(itertools.product(p,d,q))"
   ]
  },
  {
   "cell_type": "code",
   "execution_count": 52,
   "metadata": {},
   "outputs": [],
   "source": [
    "import warnings\n",
    "warnings.filterwarnings('ignore')\n",
    "for param in pdq:\n",
    "    try:\n",
    "        model_arima = ARIMA(train, order=param)\n",
    "        model_arima_fit = model_arima.fit()\n",
    "        print(param,model_arima_fit.aic)\n",
    "    except:\n",
    "        continue"
   ]
  },
  {
   "cell_type": "code",
   "execution_count": null,
   "metadata": {},
   "outputs": [
    {
     "name": "stdout",
     "output_type": "stream",
     "text": [
      "<class 'list'>\n",
      "predicted=163.980942, expected=150.620000\n",
      "predicted=150.961573, expected=150.645100\n",
      "predicted=150.661318, expected=150.650000\n",
      "predicted=150.547463, expected=150.590100\n",
      "predicted=150.877195, expected=150.620000\n",
      "predicted=150.642715, expected=150.630000\n",
      "predicted=150.463586, expected=150.550000\n",
      "predicted=150.591917, expected=150.560000\n",
      "predicted=150.691286, expected=150.589000\n",
      "predicted=150.448008, expected=150.600000\n",
      "predicted=150.542501, expected=150.609300\n",
      "predicted=150.758700, expected=150.590000\n",
      "predicted=150.622628, expected=150.575000\n",
      "predicted=150.468829, expected=150.580000\n",
      "predicted=150.595519, expected=150.600000\n",
      "predicted=150.685917, expected=150.634500\n",
      "predicted=150.591370, expected=150.637000\n",
      "predicted=150.569310, expected=150.700000\n",
      "predicted=150.762353, expected=150.750000\n",
      "predicted=150.785204, expected=150.769000\n",
      "predicted=150.698056, expected=150.775300\n",
      "predicted=150.765326, expected=150.780000\n",
      "predicted=150.848567, expected=150.770000\n",
      "predicted=150.753879, expected=150.785300\n",
      "predicted=150.728285, expected=150.770000\n",
      "predicted=150.804332, expected=150.755000\n",
      "predicted=150.796432, expected=150.770000\n",
      "predicted=150.723826, expected=150.775000\n",
      "predicted=150.753301, expected=150.789000\n",
      "predicted=150.838192, expected=150.780000\n",
      "predicted=150.781880, expected=150.720000\n",
      "predicted=150.675880, expected=150.734700\n",
      "predicted=150.751044, expected=150.680000\n",
      "predicted=150.715864, expected=150.720000\n",
      "predicted=150.694344, expected=150.720000\n",
      "predicted=150.695187, expected=150.715500\n",
      "predicted=150.748089, expected=150.750000\n",
      "predicted=150.759651, expected=150.796400\n",
      "predicted=150.761912, expected=150.800000\n",
      "predicted=150.800971, expected=150.840000\n",
      "predicted=150.869502, expected=150.810000\n",
      "predicted=150.797033, expected=150.790000\n",
      "predicted=150.769131, expected=150.780000\n",
      "predicted=150.799573, expected=150.795000\n",
      "predicted=150.807706, expected=150.810000\n",
      "predicted=150.787052, expected=150.820000\n",
      "predicted=150.816271, expected=150.836100\n",
      "predicted=150.857230, expected=150.834400\n",
      "predicted=150.829747, expected=150.780000\n",
      "predicted=150.763340, expected=150.752000\n",
      "predicted=150.764066, expected=150.780000\n",
      "predicted=150.791435, expected=150.780000\n",
      "predicted=150.765077, expected=150.790000\n",
      "predicted=150.784748, expected=150.787700\n",
      "predicted=150.802849, expected=150.790000\n",
      "predicted=150.789348, expected=150.830000\n",
      "predicted=150.815536, expected=150.844700\n",
      "predicted=150.849478, expected=150.863500\n",
      "predicted=150.873949, expected=150.780000\n",
      "predicted=150.772369, expected=150.840000\n",
      "predicted=150.833663, expected=150.835000\n",
      "predicted=150.843710, expected=150.830100\n",
      "predicted=150.833414, expected=150.830000\n",
      "predicted=150.820078, expected=150.860000\n",
      "predicted=150.860804, expected=150.830000\n",
      "predicted=150.838451, expected=150.845000\n",
      "predicted=150.841629, expected=150.840000\n",
      "predicted=150.833085, expected=150.869000\n",
      "predicted=150.874717, expected=150.860000\n",
      "predicted=150.863561, expected=150.880000\n",
      "predicted=150.873528, expected=150.874500\n",
      "predicted=150.872919, expected=150.919900\n",
      "predicted=150.925989, expected=150.906800\n",
      "predicted=150.905250, expected=150.920000\n",
      "predicted=150.914978, expected=150.930000\n",
      "predicted=150.932355, expected=150.950000\n",
      "predicted=150.953719, expected=150.954900\n",
      "predicted=150.950639, expected=150.980000\n",
      "predicted=150.977817, expected=151.010000\n",
      "predicted=151.013595, expected=151.060000\n",
      "predicted=151.059700, expected=151.090100\n",
      "predicted=151.085441, expected=151.070000\n",
      "predicted=151.071503, expected=151.160000\n",
      "predicted=151.161774, expected=151.200000\n",
      "predicted=151.196693, expected=151.210000\n",
      "predicted=151.208555, expected=151.270100\n",
      "predicted=151.271518, expected=151.260000\n",
      "predicted=151.260304, expected=151.290000\n",
      "predicted=151.287543, expected=151.330000\n",
      "predicted=151.329462, expected=151.360000\n",
      "predicted=151.361735, expected=151.349300\n",
      "predicted=151.348414, expected=151.312500\n",
      "predicted=151.311515, expected=151.320000\n",
      "predicted=151.321136, expected=151.264000\n",
      "predicted=151.265802, expected=151.251000\n",
      "predicted=151.250193, expected=151.210000\n",
      "predicted=151.209788, expected=151.200000\n",
      "predicted=151.202119, expected=151.210000\n",
      "predicted=151.209719, expected=151.230000\n",
      "predicted=151.228644, expected=151.285000\n",
      "predicted=151.284781, expected=151.290000\n",
      "predicted=151.290962, expected=151.305000\n",
      "predicted=151.304012, expected=151.280000\n",
      "predicted=151.279356, expected=151.279300\n",
      "predicted=151.280584, expected=151.280000\n",
      "predicted=151.280163, expected=151.203500\n",
      "predicted=151.203796, expected=151.190000\n",
      "predicted=151.190383, expected=151.175000\n",
      "predicted=151.175711, expected=151.120000\n",
      "predicted=151.121155, expected=151.122100\n",
      "predicted=151.121585, expected=151.130000\n",
      "predicted=151.129862, expected=151.200700\n",
      "predicted=151.200734, expected=151.280000\n",
      "predicted=151.278587, expected=151.310000\n",
      "predicted=151.309197, expected=151.280000\n",
      "predicted=151.280561, expected=151.290000\n",
      "predicted=151.289858, expected=151.240000\n",
      "predicted=151.240120, expected=151.200000\n",
      "predicted=151.201260, expected=151.190000\n",
      "predicted=151.190036, expected=151.175500\n",
      "predicted=151.175689, expected=151.130000\n",
      "predicted=151.130947, expected=151.080000\n",
      "predicted=151.080939, expected=151.040000\n",
      "predicted=151.040160, expected=151.030000\n",
      "predicted=151.030454, expected=150.960000\n",
      "predicted=150.961485, expected=150.910000\n",
      "predicted=150.910769, expected=150.910000\n",
      "predicted=150.909313, expected=150.890000\n",
      "predicted=150.891087, expected=150.925000\n",
      "predicted=150.925238, expected=150.902000\n",
      "predicted=150.901395, expected=150.901000\n",
      "predicted=150.901161, expected=151.000000\n",
      "predicted=150.998985, expected=150.990000\n",
      "predicted=150.990239, expected=151.037800\n",
      "predicted=151.037168, expected=151.054400\n",
      "predicted=151.053198, expected=151.010000\n",
      "predicted=151.011485, expected=151.030000\n",
      "predicted=151.029705, expected=151.100000\n",
      "predicted=151.098212, expected=151.045600\n",
      "predicted=151.046970, expected=151.120000\n",
      "predicted=151.119829, expected=151.120000\n",
      "predicted=151.118207, expected=151.110000\n",
      "predicted=151.111165, expected=151.100000\n",
      "predicted=151.100369, expected=151.150000\n",
      "predicted=151.148853, expected=151.180000\n",
      "predicted=151.179144, expected=151.245700\n",
      "predicted=151.246134, expected=151.259900\n",
      "predicted=151.259048, expected=151.233500\n",
      "predicted=151.233352, expected=151.270000\n",
      "predicted=151.269544, expected=151.269900\n",
      "predicted=151.270451, expected=151.180000\n",
      "predicted=151.181254, expected=151.180000\n",
      "predicted=151.179398, expected=151.190000\n",
      "predicted=151.189749, expected=151.190000\n",
      "predicted=151.191548, expected=151.200000\n",
      "predicted=151.199369, expected=151.170000\n",
      "predicted=151.169458, expected=151.228000\n",
      "predicted=151.228037, expected=151.220000\n",
      "predicted=151.220588, expected=151.233600\n",
      "predicted=151.233152, expected=151.180000\n",
      "predicted=151.179785, expected=151.150100\n",
      "predicted=151.151646, expected=151.200000\n",
      "predicted=151.199193, expected=151.220000\n",
      "predicted=151.219443, expected=151.195000\n",
      "predicted=151.195865, expected=151.220000\n",
      "predicted=151.219702, expected=151.275000\n",
      "predicted=151.273508, expected=151.265000\n",
      "predicted=151.265810, expected=151.240000\n"
     ]
    }
   ],
   "source": [
    "train_ar = train_data['NASDAQ.AAPL'].values\n",
    "test_ar = test_data['NASDAQ.AAPL'].values\n",
    "\n",
    "history = [x for x in test_ar]\n",
    "print(type(history))\n",
    "predictions = list()\n",
    "\n",
    "for t in range(len(test_ar)):\n",
    "    model = ARIMA(history, order=(4,1,4))\n",
    "    model_fit = model.fit(disp=0)\n",
    "    output = model_fit.forecast()\n",
    "    yhat = output[0]\n",
    "    predictions.append(yhat)\n",
    "    obs = test_ar[t]\n",
    "    history.append(obs)\n",
    "    print('predicted=%f, expected=%f' % (yhat, obs))\n",
    "error = mean_squared_error(test, predictions)\n",
    "print('Test MSE: %.3f' % error)"
   ]
  },
  {
   "cell_type": "code",
   "execution_count": null,
   "metadata": {},
   "outputs": [],
   "source": [
    "predictions = model_arima_fit.forecast(steps=12380)[0]\n",
    "predictions"
   ]
  },
  {
   "cell_type": "code",
   "execution_count": null,
   "metadata": {},
   "outputs": [],
   "source": [
    "plt.plot(test)\n",
    "plt.plot(predictions, color='red')"
   ]
  }
 ],
 "metadata": {
  "kernelspec": {
   "display_name": "Python 3",
   "language": "python",
   "name": "python3"
  },
  "language_info": {
   "codemirror_mode": {
    "name": "ipython",
    "version": 3
   },
   "file_extension": ".py",
   "mimetype": "text/x-python",
   "name": "python",
   "nbconvert_exporter": "python",
   "pygments_lexer": "ipython3",
   "version": "3.8.3"
  }
 },
 "nbformat": 4,
 "nbformat_minor": 4
}
