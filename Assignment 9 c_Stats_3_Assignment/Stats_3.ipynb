{
 "cells": [
  {
   "cell_type": "markdown",
   "metadata": {},
   "source": [
    "# Stats Assignment 3"
   ]
  },
  {
   "cell_type": "markdown",
   "metadata": {},
   "source": [
    "Problem Statement 1:\n",
    "\n",
    "Blood glucose levels for obese patients have a mean of 100 with a standard deviation of 15. A  researcher thinks  that  a  diet  high  in  raw  corn starch  will have  a positive  effect  on blood  glucoselevels.  A  sample  of  36  patients  who  have  tried  the  raw  corn starch  diet have  a  mean  glucose  level  of  108.  Test  the  hypothesis  that  the  raw  corn starch  had  an effect or not."
   ]
  },
  {
   "cell_type": "code",
   "execution_count": 4,
   "metadata": {},
   "outputs": [
    {
     "name": "stdout",
     "output_type": "stream",
     "text": [
      "The Standard Error, SE is:  2.5\n",
      "The Z_Score is:  3.2\n"
     ]
    }
   ],
   "source": [
    "import math \n",
    "\n",
    "Pop_mean = 100\n",
    "std_dev = 15\n",
    "sample_size = 36\n",
    "sample_mean = 108\n",
    "# Lets take a Level of significance has 95%. Then, alpha = 1-95% = 0.05\n",
    "alpha = 0.05\n",
    "\n",
    "# Formula:\n",
    "Standard_error = std_dev/(math.sqrt(sample_size))\n",
    "Z = (sample_mean - Pop_mean) / Standard_error\n",
    "print(\"The Standard Error, SE is: \", Standard_error)\n",
    "print(\"The Z_Score is: \", Z)\n",
    "\n",
    "# The Z value for 3.2 is 0.9993. The probability of having glucose level <108 is 0.9993. The value above 108 is 0.0007"
   ]
  },
  {
   "cell_type": "markdown",
   "metadata": {},
   "source": [
    "Problem Statement 2:\n",
    "\n",
    "In  one  state,  52%  of  the  voters  are  Republicans,  and  48%  are Democrats.  In  a  second state,  47%  of  the  voters  are  Republicans,  and  53%  are  Democrats.  Suppose  a  simple random sample of 100 voters are surveyed from each state.\n",
    "\n",
    "What  is  the  probability  that  the  survey  will  show  a  greater  percentage  of  Republican votersin the second state than in the first state?"
   ]
  },
  {
   "cell_type": "code",
   "execution_count": 19,
   "metadata": {},
   "outputs": [
    {
     "name": "stdout",
     "output_type": "stream",
     "text": [
      "0.050000000000000044\n",
      "0.07061869440877536\n",
      "-0.7080278164104207\n"
     ]
    }
   ],
   "source": [
    "import math\n",
    "\n",
    "Rep_1=0.52\n",
    "Dem_1=0.48\n",
    "Rep_2=0.47\n",
    "Dem_2=0.53\n",
    "n1=100\n",
    "n2=100\n",
    "\n",
    "# The mean of the difference in sample proportions:\n",
    "mean = Rep_1 - Rep_2\n",
    "print(mean)\n",
    "\n",
    "# The standard deviation of the difference:\n",
    "std= (math.sqrt((Rep_1*(1 - Rep_1) / n1) + (Rep_2*(1 - Rep_2) / n2 )))\n",
    "print(std)\n",
    "\n",
    "\n",
    "# We need to find Rep_1 is less than Rep_2\n",
    "Z_Rep_1_Rep_2 = (0-0.05/std)\n",
    "print(Z_Rep_1_Rep_2)\n",
    "\n",
    "#  we find that the probability of a z-score is -0.7082 or less is 0.24. \n",
    "# It shows that, there is 0.24 value of Republic voter in second state than first state"
   ]
  },
  {
   "cell_type": "markdown",
   "metadata": {},
   "source": [
    "Problem Statement 3:\n",
    "\n",
    "You take the SAT and score 1100. The mean score for the SAT is 1026 and the standard deviation is 209. How well did you score on the test compared to the average test taker?"
   ]
  },
  {
   "cell_type": "code",
   "execution_count": 8,
   "metadata": {},
   "outputs": [
    {
     "name": "stdout",
     "output_type": "stream",
     "text": [
      "The Z_score value is:  0.35406698564593303\n",
      "The value lies between : 817 to 1235\n"
     ]
    }
   ],
   "source": [
    "Pop_mean = 1026\n",
    "std_dev = 209\n",
    "sample_mean = 1100\n",
    "# Formula \n",
    "Z = (sample_mean - Pop_mean) / std_dev\n",
    "print(\"The Z_score value is: \", Z)\n",
    "print(\"The value lies between :\", Pop_mean-std_dev , \"to\", Pop_mean+std_dev)"
   ]
  }
 ],
 "metadata": {
  "kernelspec": {
   "display_name": "Python 3",
   "language": "python",
   "name": "python3"
  },
  "language_info": {
   "codemirror_mode": {
    "name": "ipython",
    "version": 3
   },
   "file_extension": ".py",
   "mimetype": "text/x-python",
   "name": "python",
   "nbconvert_exporter": "python",
   "pygments_lexer": "ipython3",
   "version": "3.8.3"
  }
 },
 "nbformat": 4,
 "nbformat_minor": 4
}
