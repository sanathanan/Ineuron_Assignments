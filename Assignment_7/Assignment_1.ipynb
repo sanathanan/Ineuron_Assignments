{
 "cells": [
  {
   "cell_type": "code",
   "execution_count": 1,
   "metadata": {},
   "outputs": [],
   "source": [
    "# Moving Average"
   ]
  },
  {
   "cell_type": "code",
   "execution_count": 2,
   "metadata": {},
   "outputs": [
    {
     "name": "stdout",
     "output_type": "stream",
     "text": [
      "[  5.           4.66666667   5.66666667   6.66666667   9.66666667\n",
      "  28.66666667  49.33333333  72.66666667  84.          93.33333333\n",
      " 116.33333333]\n"
     ]
    }
   ],
   "source": [
    "# Moving Average Using Numpy \n",
    "import numpy as np\n",
    "\n",
    "def mov_avg(a,k):\n",
    "    cum_sum=np.cumsum(a,dtype=float)\n",
    "    cum_sum[k:] = cum_sum[k:] - cum_sum[:-k]\n",
    "    return cum_sum[k-1:]/k\n",
    "\n",
    "a=[3,5,7,2,8,10,11,65,72,81,99,100,150]\n",
    "k=3  # Moving average with k=3\n",
    "result = mov_avg(a,k)\n",
    "print(result)"
   ]
  },
  {
   "cell_type": "code",
   "execution_count": 3,
   "metadata": {},
   "outputs": [
    {
     "name": "stdout",
     "output_type": "stream",
     "text": [
      "[5.0, 4.666666666666667, 5.666666666666667, 6.666666666666667, 9.666666666666666, 28.666666666666668, 49.333333333333336, 72.66666666666667, 84.0, 93.33333333333333, 116.33333333333333]\n"
     ]
    }
   ],
   "source": [
    "# Moving Average using while loop\n",
    "a=[3,5,7,2,8,10,11,65,72,81,99,100,150]\n",
    "k = 3\n",
    "\n",
    "i = 0\n",
    "moving_averages = []\n",
    "\n",
    "while i < len(a) - k + 1:\n",
    "\n",
    "    get_current = a[i : i + k]\n",
    "    window_average = sum(get_current) / k\n",
    "    moving_averages.append(window_average)\n",
    "\n",
    "    i += 1\n",
    "\n",
    "print(moving_averages)"
   ]
  }
 ],
 "metadata": {
  "kernelspec": {
   "display_name": "Python 3",
   "language": "python",
   "name": "python3"
  },
  "language_info": {
   "codemirror_mode": {
    "name": "ipython",
    "version": 3
   },
   "file_extension": ".py",
   "mimetype": "text/x-python",
   "name": "python",
   "nbconvert_exporter": "python",
   "pygments_lexer": "ipython3",
   "version": "3.8.3"
  }
 },
 "nbformat": 4,
 "nbformat_minor": 4
}
