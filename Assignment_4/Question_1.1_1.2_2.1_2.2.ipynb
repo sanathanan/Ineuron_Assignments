{
 "cells": [
  {
   "cell_type": "markdown",
   "metadata": {},
   "source": [
    "1.1 Write a Python Program(with class concepts) to find the area of the triangle \n",
    "using the below formula.area = (s*(s-a)*(s-b)*(s-c)) ** 0.5\n",
    "Function to take the length of the sides of triangle from user should be defined \n",
    "in the parent class and function to calculate the area should be defined in subclass.\n",
    "\n"
   ]
  },
  {
   "cell_type": "code",
   "execution_count": 2,
   "metadata": {},
   "outputs": [
    {
     "name": "stdout",
     "output_type": "stream",
     "text": [
      "Enter the length of side a: 5\n",
      "Enter the length of side b: 6\n",
      "Enter the length of side c: 7\n",
      "The area of traingle is 14.696938456699069\n"
     ]
    }
   ],
   "source": [
    "# Parent Class\n",
    "class Length_of_Sides_of_Traingle:\n",
    "    \n",
    "    def __init__(self):\n",
    "        self.a = int(input(\"Enter the length of side a: \"))\n",
    "        self.b = int(input(\"Enter the length of side b: \"))\n",
    "        self.c = int(input(\"Enter the length of side c: \"))\n",
    "\n",
    "        \n",
    "# Child class inheriting the properties of Parent class\n",
    "class Area_of_Triangle(Length_of_Sides_of_Traingle):\n",
    "    \n",
    "    def area(self):\n",
    "        s = (self.a + self.b + self.c) /2\n",
    "        area =  (s*(s-self.a)*(s-self.b)*(s-self.c)) ** 0.5\n",
    "        return area\n",
    "    \n",
    "\n",
    "a1=Area_of_Triangle() # Creating an object for child class\n",
    "print(\"The area of traingle is\", a1.area())"
   ]
  },
  {
   "cell_type": "markdown",
   "metadata": {},
   "source": [
    "1.2 Write a function filter_long_words() that takes a list of words and an \n",
    "integer n and returns the list of words that are longer than n."
   ]
  },
  {
   "cell_type": "code",
   "execution_count": 3,
   "metadata": {},
   "outputs": [
    {
     "name": "stdout",
     "output_type": "stream",
     "text": [
      "Enter the Words in String Format: The quick brown fox jumps over the lazy dog\n",
      "Enter the length of the words you need: 3\n",
      "['quick', 'brown', 'jumps', 'over', 'lazy']\n",
      "['quick', 'brown', 'jumps', 'over', 'lazy']\n"
     ]
    }
   ],
   "source": [
    "# Using Function\n",
    "def filter_long_words(lst_of_words,num):\n",
    "    \n",
    "    l1=[]\n",
    "    txt= lst_of_words.split(\" \")\n",
    "    for i in txt:\n",
    "        if len(i) > num:\n",
    "            l1.append(i)\n",
    "    return l1\n",
    "\n",
    "\n",
    "lst_of_words = input(\"Enter the Words in String Format: \")\n",
    "num = int(input(\"Enter the length of the words you need: \"))\n",
    "\n",
    "longer_words = filter_long_words(lst_of_words,num)\n",
    "\n",
    "print(longer_words)\n",
    "\n",
    "\n",
    "# Using Filter and lamda function\n",
    "\n",
    "def filter_long_words(str,num):\n",
    "    return filter(lambda x: len(x)>num, str)\n",
    "\n",
    "longer_words = filter_long_words([\"The\", \"quick\",\"brown\",\"fox\",\"jumps\",\"over\",\"the\",\"lazy\",\"dog\"],3)\n",
    "\n",
    "print(list(longer_words))"
   ]
  },
  {
   "cell_type": "markdown",
   "metadata": {},
   "source": [
    "2.1 Write a Python program using function concept that maps list of words \n",
    "into a list of integers representing the lengths of the corresponding words.\n",
    "Hint: If a list [ ab,cde,erty] is passed on to the python function output should \n",
    "come as [2,3,4]Here 2,3 and 4 are the lengths of the words in the list."
   ]
  },
  {
   "cell_type": "code",
   "execution_count": 4,
   "metadata": {},
   "outputs": [
    {
     "name": "stdout",
     "output_type": "stream",
     "text": [
      "Enter the words: ab,cde,etry\n",
      "[2, 3, 4]\n"
     ]
    }
   ],
   "source": [
    "def len_of_words(words):\n",
    "    txt = words.split(\",\")\n",
    "    l1=[]\n",
    "    for i in txt:\n",
    "        l1.append(len(i))\n",
    "    return l1\n",
    "\n",
    "\n",
    "words=input(\"Enter the words: \")\n",
    "words_length= len_of_words(words)\n",
    "print(words_length)"
   ]
  },
  {
   "cell_type": "markdown",
   "metadata": {},
   "source": [
    "2.2 Write a Python function which takes a character (i.e. a string of length 1) \n",
    "and returns True if it is a vowel, False otherwise."
   ]
  },
  {
   "cell_type": "code",
   "execution_count": 6,
   "metadata": {},
   "outputs": [
    {
     "name": "stdout",
     "output_type": "stream",
     "text": [
      "Enter the character:a\n",
      "a - The Entered character is a vowel\n"
     ]
    }
   ],
   "source": [
    "def vowels(char):\n",
    "\n",
    "    if (char == \"a\" or char ==\"e\" or char ==\"i\" or char ==\"o\" or char ==\"u\" \n",
    "       or char ==\"A\" or char ==\"E\" or char ==\"I\" or char ==\"O\" or char ==\"U\"):\n",
    "        return True\n",
    "    else:\n",
    "        return False\n",
    "    \n",
    "\n",
    "char=input(\"Enter the character:\")\n",
    "vowels_words = vowels(char)\n",
    "\n",
    "if vowels_words == True:\n",
    "    print(char,\"- The Entered character is a vowel\")\n",
    "else:\n",
    "    print(char, \"- The Entered character is not a vowel\")"
   ]
  }
 ],
 "metadata": {
  "kernelspec": {
   "display_name": "Python 3",
   "language": "python",
   "name": "python3"
  },
  "language_info": {
   "codemirror_mode": {
    "name": "ipython",
    "version": 3
   },
   "file_extension": ".py",
   "mimetype": "text/x-python",
   "name": "python",
   "nbconvert_exporter": "python",
   "pygments_lexer": "ipython3",
   "version": "3.8.3"
  }
 },
 "nbformat": 4,
 "nbformat_minor": 4
}
