{
 "cells": [
  {
   "cell_type": "markdown",
   "metadata": {},
   "source": [
    "Question_1.1:\n",
    "Write a Python Program to implement your own myreduce() function which works exactly like \n",
    "Python's built-in function reduce()"
   ]
  },
  {
   "cell_type": "code",
   "execution_count": 2,
   "metadata": {},
   "outputs": [
    {
     "name": "stdout",
     "output_type": "stream",
     "text": [
      "The Greater value using reduce function is: 1098\n"
     ]
    }
   ],
   "source": [
    "# reduce(function, sequence)\n",
    "# Finding the greatest of values from the given list\n",
    "\n",
    "# Import statement for reduce()\n",
    "from functools import reduce\n",
    "\n",
    "lst=[28,27,35,45,98,1098,987]\n",
    "max_func=lambda a,b: a if (a>b) else b # lambda function\n",
    "\n",
    "greatest_Value = reduce(max_func,lst) # using reduce function, passing the function and lst to \n",
    "                                      # find the greater values\n",
    "print(\"The Greater value using reduce function is:\",greatest_Value)"
   ]
  },
  {
   "cell_type": "code",
   "execution_count": 3,
   "metadata": {},
   "outputs": [
    {
     "name": "stdout",
     "output_type": "stream",
     "text": [
      "-------------Method 1 using sort()-------------------\n",
      "[27, 28, 35, 45, 98, 987, 1098]\n",
      "The Greater Value is:  1098\n",
      "-------------Method 2 using max()-------------------\n",
      "The Greater Value is:  1098\n",
      "-------------Method 3 using for loop and appending values-------------------\n",
      "The Greater Value is:  1098\n",
      "-------------Method 4 using function()-------------------\n",
      "The Greater Value is: 1098\n"
     ]
    }
   ],
   "source": [
    "# Finding the greater value with out reduce()\n",
    "# Method 1: (Using Sort())\n",
    "lst=[28,27,35,45,98,1098,987]\n",
    "lst = sorted(lst)\n",
    "print(\"-------------Method 1 using sort()-------------------\")\n",
    "print(lst)\n",
    "print(\"The Greater Value is: \", lst[-1])\n",
    "\n",
    "# Method 2: (Using max())\n",
    "lst=[28,27,35,45,98,1098,987]\n",
    "print(\"-------------Method 2 using max()-------------------\")\n",
    "print(\"The Greater Value is: \", max(lst))\n",
    "\n",
    "# Method 3: (Using for() and appending technique)\n",
    "lst=[28,27,35,45,98,1098,987]\n",
    "lst1=[]\n",
    "for i in lst:\n",
    "    lst1.append(i)\n",
    "print(\"-------------Method 3 using for loop and appending values-------------------\")\n",
    "print(\"The Greater Value is: \", max(lst1))\n",
    "\n",
    "# Method 4:\n",
    "def greater_fn(lst):\n",
    "    \n",
    "    # Assuming the first number in the list is max\n",
    "    max = lst[0]\n",
    "    \n",
    "    for i in lst: # Iterating the values in the list\n",
    "        if i > max: # Comparing the itertaed value with the max value defined above\n",
    "            max = i # If iterated value is greater than max value, then assigning the iterated value to max   \n",
    "    return max  # returning the max value\n",
    "    \n",
    "lst=[28,27,35,45,98,1098,987]\n",
    "print(\"-------------Method 4 using function()-------------------\")\n",
    "print(\"The Greater Value is:\", greater_fn(lst))"
   ]
  },
  {
   "cell_type": "markdown",
   "metadata": {},
   "source": [
    "Question_1.2:\n",
    "Write a Python program to implement your own myfilter() function which works exactly \n",
    "like Python's built-in function filter()"
   ]
  },
  {
   "cell_type": "code",
   "execution_count": 2,
   "metadata": {},
   "outputs": [
    {
     "name": "stdout",
     "output_type": "stream",
     "text": [
      "[2, 4, 6, 8, 10]\n",
      "[2, 4, 6, 8, 10]\n"
     ]
    }
   ],
   "source": [
    "# Filter Function Example - Using lambda function:\n",
    "lst=[1,2,3,4,5,6,7,8,9,10]\n",
    "even_function= (lambda x: x%2==0)\n",
    "num =filter(even_function,lst)\n",
    "print(list(num))\n",
    "\n",
    "# Filter function Example - Using  Function\n",
    "def even_function(lst):\n",
    "    if lst %2 ==0:\n",
    "        return True\n",
    "    \n",
    "lst=[1,2,3,4,5,6,7,8,9,10]\n",
    "print(list(filter(even_function,lst)))\n"
   ]
  },
  {
   "cell_type": "code",
   "execution_count": 3,
   "metadata": {},
   "outputs": [
    {
     "name": "stdout",
     "output_type": "stream",
     "text": [
      "[2, 4, 6, 8, 10]\n",
      "[2, 4, 6, 8, 10]\n",
      "2 4 6 8 10 "
     ]
    }
   ],
   "source": [
    "# Filter working principle with the help of def func\n",
    "def even_function(lst):\n",
    "    lst1=[]\n",
    "    for i in lst:\n",
    "        if i%2 ==0:\n",
    "            lst1.append(i)\n",
    "    return lst1\n",
    "    \n",
    "lst=[1,2,3,4,5,6,7,8,9,10]\n",
    "print(even_function(lst))\n",
    "\n",
    "# Filter working principle with the help of list_comprehension\n",
    "lst=[1,2,3,4,5,6,7,8,9,10]\n",
    "even=[i for i in lst if i%2 ==0]\n",
    "print(even)\n",
    "\n",
    "\n",
    "# Filter working principle with the help of for loop\n",
    "lst=[1,2,3,4,5,6,7,8,9,10]\n",
    "for i in lst:\n",
    "    if i%2 ==0:\n",
    "        print(i, end=\" \")"
   ]
  },
  {
   "cell_type": "markdown",
   "metadata": {},
   "source": [
    "Question_2:\n",
    "Implement List comprehensions to produce the following lists. \n",
    "Write List comprehensions to produce the following Lists\n",
    "['A', 'C', 'A', 'D', 'G', 'I', ’L’, ‘ D’]\n",
    "['x', 'xx', 'xxx', 'xxxx', 'y', 'yy', 'yyy', 'yyyy', 'z', 'zz', 'zzz', 'zzzz'] \n",
    "['x', 'y', 'z', 'xx', 'yy', 'zz', 'xxx', 'yyy', 'zzz', 'xxxx', 'yyyy', 'zzzz'] \n",
    "[[2], [3], [4], [3], [4], [5], [4], [5], [6]]\n",
    "[[2, 3, 4, 5], [3, 4, 5, 6], [4, 5, 6, 7], [5, 6, 7, 8]]\n",
    "[(1, 1), (2, 1), (3, 1), (1, 2), (2, 2), (3, 2), (1, 3), (2, 3), (3, 3)]\n"
   ]
  },
  {
   "cell_type": "code",
   "execution_count": 1,
   "metadata": {},
   "outputs": [
    {
     "name": "stdout",
     "output_type": "stream",
     "text": [
      "['A', 'C', 'A', 'D', 'G', 'I', 'L', 'D']\n",
      "['x', 'xx', 'xxx', 'xxxx', 'y', 'yy', 'yyy', 'yyyy', 'Z', 'ZZ', 'ZZZ', 'ZZZZ']\n",
      "['x', 'y', 'Z', 'xx', 'yy', 'ZZ', 'xxx', 'yyy', 'ZZZ', 'xxxx', 'yyyy', 'ZZZZ']\n",
      "[[2], [3], [4], [3], [4], [5], [4], [5], [6]]\n",
      "[[2, 3, 4, 5], [3, 4, 5, 6], [4, 5, 6, 7], [5, 6, 7, 8]]\n",
      "[(1, 1), (2, 1), (3, 1), (1, 2), (2, 2), (3, 2), (1, 3), (2, 3), (3, 3)]\n"
     ]
    }
   ],
   "source": [
    "# Program 1:\n",
    "# Output: ['A', 'C', 'A', 'D', 'G', 'I', ’L’, ‘ D’]\n",
    "lst =\"ACADGILD\"\n",
    "lst_comp=[i for i in lst]\n",
    "print(lst_comp)\n",
    "\n",
    "# Program 2:\n",
    "# Output: ['x', 'xx', 'xxx', 'xxxx', 'y', 'yy', 'yyy', 'yyyy', 'z', 'zz', 'zzz', 'zzzz'] \n",
    "lst =[\"x\",\"y\",\"Z\"]\n",
    "lst_comp=[i*num for i in lst for num in range(1,5)]\n",
    "print(lst_comp)\n",
    "\n",
    "# Program 3:\n",
    "# Output: ['x', 'y', 'z', 'xx', 'yy', 'zz', 'xxx', 'yyy', 'zzz', 'xxxx', 'yyyy', 'zzzz']\n",
    "lst =[\"x\",\"y\",\"Z\"]\n",
    "lst_comp=[num*i for num in range(1,5) for i in lst]\n",
    "print(lst_comp)\n",
    "\n",
    "# Program 4:\n",
    "# Output: [[2], [3], [4], [3], [4], [5], [4], [5], [6]]\n",
    "lst =[2,3,4]\n",
    "lst_comp=[[i+num] for i in lst for num in range(0,3)]\n",
    "print(lst_comp)\n",
    "\n",
    "# Program 5:\n",
    "# Output: [[2, 3, 4, 5], [3, 4, 5, 6], [4, 5, 6, 7], [5, 6, 7, 8]]\n",
    "lst =[2,3,4,5]\n",
    "lst_comp=[[i+num for num in range(0,4)] for i in lst]\n",
    "print(lst_comp)\n",
    "\n",
    "# program 6:\n",
    "# Output: [(1, 1), (2, 1), (3, 1), (1, 2), (2, 2), (3, 2), (1, 3), (2, 3), (3, 3)]\n",
    "lst=[1,2,3]\n",
    "lst_comp=[(j,i) for i in lst for j in lst]\n",
    "print(lst_comp)"
   ]
  }
 ],
 "metadata": {
  "kernelspec": {
   "display_name": "Python 3",
   "language": "python",
   "name": "python3"
  },
  "language_info": {
   "codemirror_mode": {
    "name": "ipython",
    "version": 3
   },
   "file_extension": ".py",
   "mimetype": "text/x-python",
   "name": "python",
   "nbconvert_exporter": "python",
   "pygments_lexer": "ipython3",
   "version": "3.8.3"
  }
 },
 "nbformat": 4,
 "nbformat_minor": 4
}
